{
 "cells": [
  {
   "cell_type": "code",
   "execution_count": 36,
   "metadata": {},
   "outputs": [],
   "source": [
    "import numpy as np"
   ]
  },
  {
   "cell_type": "code",
   "execution_count": 37,
   "metadata": {},
   "outputs": [],
   "source": [
    "phi1 = np.array([[3],[2]])\n",
    "phi2 = np.array([[1],[1]])\n",
    "phi3 = np.array([[4],[-6]])\n",
    "phi4 = np.array([[2],[1]])\n",
    "phi = (phi1, phi2, phi3, phi4)\n",
    "\n",
    "y1, y2, y3, y4 = 6, 1, -3, 4\n",
    "y = (y1, y2, y3, y4)"
   ]
  },
  {
   "cell_type": "code",
   "execution_count": 38,
   "metadata": {},
   "outputs": [
    {
     "data": {
      "text/plain": [
       "array([[1.11594203],\n",
       "       [1.23188406]])"
      ]
     },
     "execution_count": 38,
     "metadata": {},
     "output_type": "execute_result"
    }
   ],
   "source": [
    "P_inv = 0\n",
    "B = 0\n",
    "for _phi in phi:\n",
    "    P_inv += _phi@np.transpose(_phi)\n",
    "for _y, _phi in zip(y, phi):\n",
    "    B += _y*_phi\n",
    "\n",
    "P = np.linalg.inv(P_inv)\n",
    "theta = P@B\n",
    "theta"
   ]
  },
  {
   "cell_type": "code",
   "execution_count": 39,
   "metadata": {},
   "outputs": [],
   "source": [
    "# new data\n",
    "phi5 = np.array([[2], [2]])\n",
    "y5 = 3\n",
    "P_tprev = P\n",
    "theta_tprev = theta"
   ]
  },
  {
   "cell_type": "code",
   "execution_count": 40,
   "metadata": {},
   "outputs": [
    {
     "data": {
      "text/plain": [
       "array([[0.98198198],\n",
       "       [1.12612613]])"
      ]
     },
     "execution_count": 40,
     "metadata": {},
     "output_type": "execute_result"
    }
   ],
   "source": [
    "#calculate new theta using batch method\n",
    "y = (y1, y2, y3, y4, y5)\n",
    "phi = (phi1, phi2, phi3, phi4, phi5)\n",
    "P_inv = 0\n",
    "B = 0\n",
    "for _phi in phi:\n",
    "    P_inv += _phi@np.transpose(_phi)\n",
    "for _y, _phi in zip(y, phi):\n",
    "    B += _y*_phi\n",
    "\n",
    "P = np.linalg.inv(P_inv)\n",
    "theta_t = P@B\n",
    "theta_t"
   ]
  },
  {
   "cell_type": "code",
   "execution_count": 41,
   "metadata": {},
   "outputs": [],
   "source": [
    "# calculate new Pt from previous P(t-1) and new data\n",
    "P_t = P_tprev - (P_tprev@phi5@np.transpose(phi5)@P_tprev)/(1+np.transpose(phi5)@P_tprev@phi5)\n",
    "theta_t = theta_tprev + (P_tprev@phi5)/(1+np.transpose(phi5)@P_tprev@phi5)*(y5-np.transpose(phi5)@theta_tprev)"
   ]
  },
  {
   "cell_type": "code",
   "execution_count": 42,
   "metadata": {},
   "outputs": [
    {
     "data": {
      "text/plain": [
       "array([[0.98198198],\n",
       "       [1.12612613]])"
      ]
     },
     "execution_count": 42,
     "metadata": {},
     "output_type": "execute_result"
    }
   ],
   "source": [
    "theta_t"
   ]
  }
 ],
 "metadata": {
  "kernelspec": {
   "display_name": "ml_vision",
   "language": "python",
   "name": "python3"
  },
  "language_info": {
   "codemirror_mode": {
    "name": "ipython",
    "version": 3
   },
   "file_extension": ".py",
   "mimetype": "text/x-python",
   "name": "python",
   "nbconvert_exporter": "python",
   "pygments_lexer": "ipython3",
   "version": "3.8.1"
  }
 },
 "nbformat": 4,
 "nbformat_minor": 2
}
